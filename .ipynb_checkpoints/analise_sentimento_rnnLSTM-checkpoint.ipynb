{
 "cells": [
  {
   "cell_type": "markdown",
   "metadata": {
    "deletable": true,
    "editable": true
   },
   "source": [
    "Analise de sentimentos em comentários feitos sobre carros no site http://www.carrosnaweb.com.br/\n",
    "\n",
    "Esses dados foram minerados utilizando a linguagem R e foram os dados da <b>Hackathon de Data Science do Laboratório de Estatística e Geoinformação da UFPR</b>\n",
    "\n",
    "Agradeço ao pessoal da UFPR pela iniciativa, aos professores Walmes e Wagner.\n",
    "\n",
    "O objetivo desse notebook é aplicar a técnica de analise de sentimentos utilizando-se de redes neurais recorrentes utilizando células de memória LSTM, para predição de sentimento em cima dos comentários de Opinião Geral fornecidos no Dataset."
   ]
  },
  {
   "cell_type": "code",
   "execution_count": 1,
   "metadata": {
    "collapsed": false,
    "deletable": true,
    "editable": true
   },
   "outputs": [],
   "source": [
    "from string import punctuation\n",
    "import tensorflow as tf\n",
    "import pandas as pd\n",
    "import numpy as np"
   ]
  },
  {
   "cell_type": "code",
   "execution_count": 2,
   "metadata": {
    "collapsed": true,
    "deletable": true,
    "editable": true
   },
   "outputs": [],
   "source": [
    "notas = pd.read_csv(\"./notas.csv\", sep = ';', encoding = \"utf-8\")\n",
    "\n",
    "opinioes = pd.read_json(\"./opinioes.json\", encoding = \"utf-8\")"
   ]
  },
  {
   "cell_type": "code",
   "execution_count": 3,
   "metadata": {
    "collapsed": false,
    "deletable": true,
    "editable": true
   },
   "outputs": [
    {
     "data": {
      "text/html": [
       "<div>\n",
       "<style>\n",
       "    .dataframe thead tr:only-child th {\n",
       "        text-align: right;\n",
       "    }\n",
       "\n",
       "    .dataframe thead th {\n",
       "        text-align: left;\n",
       "    }\n",
       "\n",
       "    .dataframe tbody tr th {\n",
       "        vertical-align: top;\n",
       "    }\n",
       "</style>\n",
       "<table border=\"1\" class=\"dataframe\">\n",
       "  <thead>\n",
       "    <tr style=\"text-align: right;\">\n",
       "      <th></th>\n",
       "      <th>ID</th>\n",
       "      <th>quesito</th>\n",
       "      <th>nota</th>\n",
       "    </tr>\n",
       "  </thead>\n",
       "  <tbody>\n",
       "    <tr>\n",
       "      <th>0</th>\n",
       "      <td>e2b9dc08</td>\n",
       "      <td>Estilo</td>\n",
       "      <td>7</td>\n",
       "    </tr>\n",
       "    <tr>\n",
       "      <th>1</th>\n",
       "      <td>e2b9dc08</td>\n",
       "      <td>Acabamento</td>\n",
       "      <td>5</td>\n",
       "    </tr>\n",
       "    <tr>\n",
       "      <th>2</th>\n",
       "      <td>e2b9dc08</td>\n",
       "      <td>Posição de dirigir</td>\n",
       "      <td>7</td>\n",
       "    </tr>\n",
       "    <tr>\n",
       "      <th>3</th>\n",
       "      <td>e2b9dc08</td>\n",
       "      <td>Instrumentos</td>\n",
       "      <td>10</td>\n",
       "    </tr>\n",
       "    <tr>\n",
       "      <th>4</th>\n",
       "      <td>e2b9dc08</td>\n",
       "      <td>Interior</td>\n",
       "      <td>5</td>\n",
       "    </tr>\n",
       "    <tr>\n",
       "      <th>5</th>\n",
       "      <td>e2b9dc08</td>\n",
       "      <td>Porta-malas</td>\n",
       "      <td>5</td>\n",
       "    </tr>\n",
       "    <tr>\n",
       "      <th>6</th>\n",
       "      <td>e2b9dc08</td>\n",
       "      <td>Desempenho</td>\n",
       "      <td>10</td>\n",
       "    </tr>\n",
       "    <tr>\n",
       "      <th>7</th>\n",
       "      <td>e2b9dc08</td>\n",
       "      <td>Motor</td>\n",
       "      <td>10</td>\n",
       "    </tr>\n",
       "    <tr>\n",
       "      <th>8</th>\n",
       "      <td>e2b9dc08</td>\n",
       "      <td>Câmbio</td>\n",
       "      <td>10</td>\n",
       "    </tr>\n",
       "    <tr>\n",
       "      <th>9</th>\n",
       "      <td>e2b9dc08</td>\n",
       "      <td>Freios</td>\n",
       "      <td>10</td>\n",
       "    </tr>\n",
       "    <tr>\n",
       "      <th>10</th>\n",
       "      <td>e2b9dc08</td>\n",
       "      <td>Suspensão</td>\n",
       "      <td>10</td>\n",
       "    </tr>\n",
       "    <tr>\n",
       "      <th>11</th>\n",
       "      <td>e2b9dc08</td>\n",
       "      <td>Consumo</td>\n",
       "      <td>10</td>\n",
       "    </tr>\n",
       "    <tr>\n",
       "      <th>12</th>\n",
       "      <td>e2b9dc08</td>\n",
       "      <td>Estabilidade</td>\n",
       "      <td>10</td>\n",
       "    </tr>\n",
       "    <tr>\n",
       "      <th>13</th>\n",
       "      <td>e2b9dc08</td>\n",
       "      <td>Custo-Benefício</td>\n",
       "      <td>10</td>\n",
       "    </tr>\n",
       "    <tr>\n",
       "      <th>14</th>\n",
       "      <td>e2b9dc08</td>\n",
       "      <td>Recomendação</td>\n",
       "      <td>10</td>\n",
       "    </tr>\n",
       "  </tbody>\n",
       "</table>\n",
       "</div>"
      ],
      "text/plain": [
       "          ID             quesito  nota\n",
       "0   e2b9dc08              Estilo     7\n",
       "1   e2b9dc08          Acabamento     5\n",
       "2   e2b9dc08  Posição de dirigir     7\n",
       "3   e2b9dc08        Instrumentos    10\n",
       "4   e2b9dc08            Interior     5\n",
       "5   e2b9dc08         Porta-malas     5\n",
       "6   e2b9dc08          Desempenho    10\n",
       "7   e2b9dc08               Motor    10\n",
       "8   e2b9dc08              Câmbio    10\n",
       "9   e2b9dc08              Freios    10\n",
       "10  e2b9dc08           Suspensão    10\n",
       "11  e2b9dc08             Consumo    10\n",
       "12  e2b9dc08        Estabilidade    10\n",
       "13  e2b9dc08     Custo-Benefício    10\n",
       "14  e2b9dc08        Recomendação    10"
      ]
     },
     "execution_count": 3,
     "metadata": {},
     "output_type": "execute_result"
    }
   ],
   "source": [
    "notas.head(15)"
   ]
  },
  {
   "cell_type": "markdown",
   "metadata": {
    "deletable": true,
    "editable": true
   },
   "source": [
    "<i>O dataset Notas.csv fornece uma nota fornecida pelo usuário para cada feature do carro avaliado, será feita uma média dessas features, para servir como media final e label para a analise de sentimento.</i>"
   ]
  },
  {
   "cell_type": "code",
   "execution_count": 4,
   "metadata": {
    "collapsed": true,
    "deletable": true,
    "editable": true
   },
   "outputs": [],
   "source": [
    "opinioes.drop([1,2,3,4,5,6,7,9], inplace = True, axis = 1)\n",
    "columns = ['ID','Opiniao Geral']\n",
    "\n",
    "opinioes.columns = columns\n",
    "opinioes = opinioes.sort_values(by = ['ID'], axis = 0)"
   ]
  },
  {
   "cell_type": "code",
   "execution_count": 5,
   "metadata": {
    "collapsed": false,
    "deletable": true,
    "editable": true
   },
   "outputs": [
    {
     "data": {
      "text/html": [
       "<div>\n",
       "<style>\n",
       "    .dataframe thead tr:only-child th {\n",
       "        text-align: right;\n",
       "    }\n",
       "\n",
       "    .dataframe thead th {\n",
       "        text-align: left;\n",
       "    }\n",
       "\n",
       "    .dataframe tbody tr th {\n",
       "        vertical-align: top;\n",
       "    }\n",
       "</style>\n",
       "<table border=\"1\" class=\"dataframe\">\n",
       "  <thead>\n",
       "    <tr style=\"text-align: right;\">\n",
       "      <th></th>\n",
       "      <th>ID</th>\n",
       "      <th>Opiniao Geral</th>\n",
       "    </tr>\n",
       "  </thead>\n",
       "  <tbody>\n",
       "    <tr>\n",
       "      <th>5181</th>\n",
       "      <td>00022137</td>\n",
       "      <td>Opinião Geral:É um bom carro, mas pelo valor d...</td>\n",
       "    </tr>\n",
       "    <tr>\n",
       "      <th>4467</th>\n",
       "      <td>000a582d</td>\n",
       "      <td>Opinião Geral:pode melhorar</td>\n",
       "    </tr>\n",
       "    <tr>\n",
       "      <th>3945</th>\n",
       "      <td>001e058b</td>\n",
       "      <td>Opinião Geral:Estou feliz com meu carrinho, só...</td>\n",
       "    </tr>\n",
       "    <tr>\n",
       "      <th>2354</th>\n",
       "      <td>002f1155</td>\n",
       "      <td>Opinião Geral:Para quem quer um carro automáti...</td>\n",
       "    </tr>\n",
       "    <tr>\n",
       "      <th>2009</th>\n",
       "      <td>00372114</td>\n",
       "      <td>Opinião Geral:Em geral o carro é bom e chama a...</td>\n",
       "    </tr>\n",
       "    <tr>\n",
       "      <th>995</th>\n",
       "      <td>006c0f2c</td>\n",
       "      <td>Opinião Geral:carro sem frescuras, e para quem...</td>\n",
       "    </tr>\n",
       "    <tr>\n",
       "      <th>3868</th>\n",
       "      <td>00766a5c</td>\n",
       "      <td>Opinião Geral:Quem tem um e conserva bem,tem c...</td>\n",
       "    </tr>\n",
       "    <tr>\n",
       "      <th>1449</th>\n",
       "      <td>007684da</td>\n",
       "      <td>Opinião Geral:A relação custo-beneficio atende...</td>\n",
       "    </tr>\n",
       "    <tr>\n",
       "      <th>4805</th>\n",
       "      <td>0090acd0</td>\n",
       "      <td>Opinião Geral:Pessimo carro. Ainda irei adesiv...</td>\n",
       "    </tr>\n",
       "    <tr>\n",
       "      <th>4418</th>\n",
       "      <td>009d1244</td>\n",
       "      <td>Opinião Geral:Pra sair do gacho o carro atende...</td>\n",
       "    </tr>\n",
       "  </tbody>\n",
       "</table>\n",
       "</div>"
      ],
      "text/plain": [
       "            ID                                      Opiniao Geral\n",
       "5181  00022137  Opinião Geral:É um bom carro, mas pelo valor d...\n",
       "4467  000a582d                        Opinião Geral:pode melhorar\n",
       "3945  001e058b  Opinião Geral:Estou feliz com meu carrinho, só...\n",
       "2354  002f1155  Opinião Geral:Para quem quer um carro automáti...\n",
       "2009  00372114  Opinião Geral:Em geral o carro é bom e chama a...\n",
       "995   006c0f2c  Opinião Geral:carro sem frescuras, e para quem...\n",
       "3868  00766a5c  Opinião Geral:Quem tem um e conserva bem,tem c...\n",
       "1449  007684da  Opinião Geral:A relação custo-beneficio atende...\n",
       "4805  0090acd0  Opinião Geral:Pessimo carro. Ainda irei adesiv...\n",
       "4418  009d1244  Opinião Geral:Pra sair do gacho o carro atende..."
      ]
     },
     "execution_count": 5,
     "metadata": {},
     "output_type": "execute_result"
    }
   ],
   "source": [
    "opinioes.head(10)"
   ]
  },
  {
   "cell_type": "markdown",
   "metadata": {
    "deletable": true,
    "editable": true
   },
   "source": [
    "No dataset de opinião, dropamos todas as colunas com exceção da coluna de ID e Opinião Geral, na qual iremos performar a analise de sentimentos, falta adicionar a média dada pelo usuario para o carro, porém essa média esta no dataset notas, o código abaixo realiza a média e adiciona a coluna média a Opinião Geral"
   ]
  },
  {
   "cell_type": "code",
   "execution_count": 6,
   "metadata": {
    "collapsed": true,
    "deletable": true,
    "editable": true
   },
   "outputs": [],
   "source": [
    "def media_geral():\n",
    "    \n",
    "    medias = []\n",
    "    for unique_id in sorted(notas['ID'].unique()):\n",
    "        \n",
    "        media = np.average(notas.loc[notas.ID == unique_id]['nota'])\n",
    "        #print(unique_id, media)\n",
    "        medias.append(media)\n",
    "    \n",
    "    return medias"
   ]
  },
  {
   "cell_type": "code",
   "execution_count": 7,
   "metadata": {
    "collapsed": true,
    "deletable": true,
    "editable": true
   },
   "outputs": [],
   "source": [
    "medias = media_geral()\n",
    "opinioes['medias'] = pd.Series(medias).values\n",
    "opinioes['Opiniao Geral'] = opinioes['Opiniao Geral'].apply(lambda x: x[14:].lower())"
   ]
  },
  {
   "cell_type": "code",
   "execution_count": 8,
   "metadata": {
    "collapsed": false,
    "deletable": true,
    "editable": true
   },
   "outputs": [
    {
     "data": {
      "text/html": [
       "<div>\n",
       "<style>\n",
       "    .dataframe thead tr:only-child th {\n",
       "        text-align: right;\n",
       "    }\n",
       "\n",
       "    .dataframe thead th {\n",
       "        text-align: left;\n",
       "    }\n",
       "\n",
       "    .dataframe tbody tr th {\n",
       "        vertical-align: top;\n",
       "    }\n",
       "</style>\n",
       "<table border=\"1\" class=\"dataframe\">\n",
       "  <thead>\n",
       "    <tr style=\"text-align: right;\">\n",
       "      <th></th>\n",
       "      <th>ID</th>\n",
       "      <th>Opiniao Geral</th>\n",
       "      <th>medias</th>\n",
       "    </tr>\n",
       "  </thead>\n",
       "  <tbody>\n",
       "    <tr>\n",
       "      <th>5181</th>\n",
       "      <td>00022137</td>\n",
       "      <td>é um bom carro, mas pelo valor dele novo, comp...</td>\n",
       "      <td>7.133333</td>\n",
       "    </tr>\n",
       "    <tr>\n",
       "      <th>4467</th>\n",
       "      <td>000a582d</td>\n",
       "      <td>pode melhorar</td>\n",
       "      <td>7.733333</td>\n",
       "    </tr>\n",
       "    <tr>\n",
       "      <th>3945</th>\n",
       "      <td>001e058b</td>\n",
       "      <td>estou feliz com meu carrinho, só me deu alegri...</td>\n",
       "      <td>8.000000</td>\n",
       "    </tr>\n",
       "    <tr>\n",
       "      <th>2354</th>\n",
       "      <td>002f1155</td>\n",
       "      <td>para quem quer um carro automático de verdade,...</td>\n",
       "      <td>8.666667</td>\n",
       "    </tr>\n",
       "    <tr>\n",
       "      <th>2009</th>\n",
       "      <td>00372114</td>\n",
       "      <td>em geral o carro é bom e chama atenção por ond...</td>\n",
       "      <td>6.933333</td>\n",
       "    </tr>\n",
       "    <tr>\n",
       "      <th>995</th>\n",
       "      <td>006c0f2c</td>\n",
       "      <td>carro sem frescuras, e para quem não quer fica...</td>\n",
       "      <td>8.600000</td>\n",
       "    </tr>\n",
       "    <tr>\n",
       "      <th>3868</th>\n",
       "      <td>00766a5c</td>\n",
       "      <td>quem tem um e conserva bem,tem carro pra muito...</td>\n",
       "      <td>7.866667</td>\n",
       "    </tr>\n",
       "    <tr>\n",
       "      <th>1449</th>\n",
       "      <td>007684da</td>\n",
       "      <td>a relação custo-beneficio atende a expectativa...</td>\n",
       "      <td>8.000000</td>\n",
       "    </tr>\n",
       "    <tr>\n",
       "      <th>4805</th>\n",
       "      <td>0090acd0</td>\n",
       "      <td>pessimo carro. ainda irei adesivar no vidro tr...</td>\n",
       "      <td>4.466667</td>\n",
       "    </tr>\n",
       "    <tr>\n",
       "      <th>4418</th>\n",
       "      <td>009d1244</td>\n",
       "      <td>pra sair do gacho o carro atende, porem o segu...</td>\n",
       "      <td>4.933333</td>\n",
       "    </tr>\n",
       "  </tbody>\n",
       "</table>\n",
       "</div>"
      ],
      "text/plain": [
       "            ID                                      Opiniao Geral    medias\n",
       "5181  00022137  é um bom carro, mas pelo valor dele novo, comp...  7.133333\n",
       "4467  000a582d                                      pode melhorar  7.733333\n",
       "3945  001e058b  estou feliz com meu carrinho, só me deu alegri...  8.000000\n",
       "2354  002f1155  para quem quer um carro automático de verdade,...  8.666667\n",
       "2009  00372114  em geral o carro é bom e chama atenção por ond...  6.933333\n",
       "995   006c0f2c  carro sem frescuras, e para quem não quer fica...  8.600000\n",
       "3868  00766a5c  quem tem um e conserva bem,tem carro pra muito...  7.866667\n",
       "1449  007684da  a relação custo-beneficio atende a expectativa...  8.000000\n",
       "4805  0090acd0  pessimo carro. ainda irei adesivar no vidro tr...  4.466667\n",
       "4418  009d1244  pra sair do gacho o carro atende, porem o segu...  4.933333"
      ]
     },
     "execution_count": 8,
     "metadata": {},
     "output_type": "execute_result"
    }
   ],
   "source": [
    "opinioes.head(10)"
   ]
  },
  {
   "cell_type": "markdown",
   "metadata": {
    "deletable": true,
    "editable": true
   },
   "source": [
    "Adicionado então a coluna de média ao dataset de opinioes, foi feita também uma trimagem nos comentarios, \n",
    "pois todos começavam com \"Opinião Geral:\", além disso retirou-se qualquer caps-lock dos comentarios, afim de reduzir-se ruidos no dataset"
   ]
  },
  {
   "cell_type": "code",
   "execution_count": 9,
   "metadata": {
    "collapsed": true,
    "deletable": true,
    "editable": true
   },
   "outputs": [],
   "source": [
    "def clean_punctuation(x):\n",
    "    x = ''.join([word for word in x if word not in punctuation])\n",
    "    return x"
   ]
  },
  {
   "cell_type": "code",
   "execution_count": null,
   "metadata": {
    "collapsed": true,
    "deletable": true,
    "editable": true
   },
   "outputs": [],
   "source": []
  },
  {
   "cell_type": "code",
   "execution_count": 10,
   "metadata": {
    "collapsed": true,
    "deletable": true,
    "editable": true
   },
   "outputs": [],
   "source": [
    "opinioes['Opiniao Geral'] = opinioes['Opiniao Geral'].apply(lambda x: clean_punctuation(x))"
   ]
  },
  {
   "cell_type": "code",
   "execution_count": 11,
   "metadata": {
    "collapsed": false,
    "deletable": true,
    "editable": true
   },
   "outputs": [
    {
     "data": {
      "text/html": [
       "<div>\n",
       "<style>\n",
       "    .dataframe thead tr:only-child th {\n",
       "        text-align: right;\n",
       "    }\n",
       "\n",
       "    .dataframe thead th {\n",
       "        text-align: left;\n",
       "    }\n",
       "\n",
       "    .dataframe tbody tr th {\n",
       "        vertical-align: top;\n",
       "    }\n",
       "</style>\n",
       "<table border=\"1\" class=\"dataframe\">\n",
       "  <thead>\n",
       "    <tr style=\"text-align: right;\">\n",
       "      <th></th>\n",
       "      <th>ID</th>\n",
       "      <th>Opiniao Geral</th>\n",
       "      <th>medias</th>\n",
       "    </tr>\n",
       "  </thead>\n",
       "  <tbody>\n",
       "    <tr>\n",
       "      <th>5181</th>\n",
       "      <td>00022137</td>\n",
       "      <td>é um bom carro mas pelo valor dele novo compen...</td>\n",
       "      <td>7.133333</td>\n",
       "    </tr>\n",
       "    <tr>\n",
       "      <th>4467</th>\n",
       "      <td>000a582d</td>\n",
       "      <td>pode melhorar</td>\n",
       "      <td>7.733333</td>\n",
       "    </tr>\n",
       "    <tr>\n",
       "      <th>3945</th>\n",
       "      <td>001e058b</td>\n",
       "      <td>estou feliz com meu carrinho só me deu alegria...</td>\n",
       "      <td>8.000000</td>\n",
       "    </tr>\n",
       "    <tr>\n",
       "      <th>2354</th>\n",
       "      <td>002f1155</td>\n",
       "      <td>para quem quer um carro automático de verdade ...</td>\n",
       "      <td>8.666667</td>\n",
       "    </tr>\n",
       "    <tr>\n",
       "      <th>2009</th>\n",
       "      <td>00372114</td>\n",
       "      <td>em geral o carro é bom e chama atenção por ond...</td>\n",
       "      <td>6.933333</td>\n",
       "    </tr>\n",
       "    <tr>\n",
       "      <th>995</th>\n",
       "      <td>006c0f2c</td>\n",
       "      <td>carro sem frescuras e para quem não quer ficar...</td>\n",
       "      <td>8.600000</td>\n",
       "    </tr>\n",
       "    <tr>\n",
       "      <th>3868</th>\n",
       "      <td>00766a5c</td>\n",
       "      <td>quem tem um e conserva bemtem carro pra muito ...</td>\n",
       "      <td>7.866667</td>\n",
       "    </tr>\n",
       "    <tr>\n",
       "      <th>1449</th>\n",
       "      <td>007684da</td>\n",
       "      <td>a relação custobeneficio atende a expectativa ...</td>\n",
       "      <td>8.000000</td>\n",
       "    </tr>\n",
       "    <tr>\n",
       "      <th>4805</th>\n",
       "      <td>0090acd0</td>\n",
       "      <td>pessimo carro ainda irei adesivar no vidro tra...</td>\n",
       "      <td>4.466667</td>\n",
       "    </tr>\n",
       "    <tr>\n",
       "      <th>4418</th>\n",
       "      <td>009d1244</td>\n",
       "      <td>pra sair do gacho o carro atende porem o segur...</td>\n",
       "      <td>4.933333</td>\n",
       "    </tr>\n",
       "  </tbody>\n",
       "</table>\n",
       "</div>"
      ],
      "text/plain": [
       "            ID                                      Opiniao Geral    medias\n",
       "5181  00022137  é um bom carro mas pelo valor dele novo compen...  7.133333\n",
       "4467  000a582d                                      pode melhorar  7.733333\n",
       "3945  001e058b  estou feliz com meu carrinho só me deu alegria...  8.000000\n",
       "2354  002f1155  para quem quer um carro automático de verdade ...  8.666667\n",
       "2009  00372114  em geral o carro é bom e chama atenção por ond...  6.933333\n",
       "995   006c0f2c  carro sem frescuras e para quem não quer ficar...  8.600000\n",
       "3868  00766a5c  quem tem um e conserva bemtem carro pra muito ...  7.866667\n",
       "1449  007684da  a relação custobeneficio atende a expectativa ...  8.000000\n",
       "4805  0090acd0  pessimo carro ainda irei adesivar no vidro tra...  4.466667\n",
       "4418  009d1244  pra sair do gacho o carro atende porem o segur...  4.933333"
      ]
     },
     "execution_count": 11,
     "metadata": {},
     "output_type": "execute_result"
    }
   ],
   "source": [
    "opinioes.head(10)"
   ]
  },
  {
   "cell_type": "markdown",
   "metadata": {
    "deletable": true,
    "editable": true
   },
   "source": [
    "Retirou-se então qualquer tipo de pontuação dos comentarios."
   ]
  },
  {
   "cell_type": "code",
   "execution_count": 12,
   "metadata": {
    "collapsed": true,
    "deletable": true,
    "editable": true
   },
   "outputs": [],
   "source": [
    "threshold = 6\n",
    "opinioes['medias'] = opinioes['medias'].apply(lambda x: 1 if x>threshold else 0)\n",
    "opinioes.drop('ID', inplace = True, axis =1)"
   ]
  },
  {
   "cell_type": "markdown",
   "metadata": {
    "deletable": true,
    "editable": true
   },
   "source": [
    "Para as colunas de labels, se a media geral for maior que o threshold minimo (no caso foi escolhido 6) então a avaliação é positiva, caso contrario a avaliação é negativa."
   ]
  },
  {
   "cell_type": "code",
   "execution_count": 14,
   "metadata": {
    "collapsed": true,
    "deletable": true,
    "editable": true
   },
   "outputs": [],
   "source": [
    "'''\n",
    "cria uma lista com as palavras dos reviews\n",
    "'''\n",
    "words = []\n",
    "for index,row in opinioes['Opiniao Geral'].iteritems():\n",
    "    for word in row.split():\n",
    "        words.append(word)"
   ]
  },
  {
   "cell_type": "code",
   "execution_count": 15,
   "metadata": {
    "collapsed": true,
    "deletable": true,
    "editable": true
   },
   "outputs": [],
   "source": [
    "'''\n",
    "para cada palavra do vocabulario atribui-se um valor numerico\n",
    "'''\n",
    "vocab_to_int = dict()\n",
    "counter = 1\n",
    "for word in words:\n",
    "    if word not in vocab_to_int.keys():\n",
    "        vocab_to_int[word] = counter\n",
    "        counter+=1\n",
    "    else:\n",
    "        pass"
   ]
  },
  {
   "cell_type": "code",
   "execution_count": 17,
   "metadata": {
    "collapsed": true,
    "deletable": true,
    "editable": true
   },
   "outputs": [],
   "source": [
    "review_ints = []    \n",
    "for index,review in opinioes['Opiniao Geral'].iteritems():\n",
    "    review_ints.append([vocab_to_int[word] for word in review.split()])\n",
    "    \n",
    "labels = opinioes['medias'].tolist()"
   ]
  },
  {
   "cell_type": "markdown",
   "metadata": {
    "deletable": true,
    "editable": true
   },
   "source": [
    "É necessario fazer a conversão de palavras para inteiros, para isso foi criado um bag de palavras na variavel words, pegando todas as palavras dos reviews, então é criado um dicionario, atribuindo um vlaor inteiro unico para cada palavra.Então cada review em Opinioes é traduzido para inteiros e armazenado na variavel <b>review_ints</b>"
   ]
  },
  {
   "cell_type": "code",
   "execution_count": 18,
   "metadata": {
    "collapsed": false,
    "deletable": true,
    "editable": true
   },
   "outputs": [
    {
     "name": "stdout",
     "output_type": "stream",
     "text": [
      "Reviews com tamanho zero: 16\n",
      "Review mais longo: 428\n"
     ]
    }
   ],
   "source": [
    "from collections import Counter\n",
    "\n",
    "review_lens = Counter([len(x) for x in review_ints])\n",
    "print(\"Reviews com tamanho zero: {}\".format(review_lens[0]))\n",
    "print(\"Review mais longo: {}\".format(max(review_lens)))"
   ]
  },
  {
   "cell_type": "markdown",
   "metadata": {
    "deletable": true,
    "editable": true
   },
   "source": [
    "Agora, fazendo uma analise do tamanho dos comentarios, percebe-se a existencia de comentários vazios ou comentários muito longos, os comentarios com zeros palavras serão removidos e o restante truncado em 200 palavras."
   ]
  },
  {
   "cell_type": "code",
   "execution_count": 21,
   "metadata": {
    "collapsed": true,
    "deletable": true,
    "editable": true
   },
   "outputs": [],
   "source": [
    "non_zero_idx = [ii for ii, review in enumerate(review_ints) if len(review) != 0]\n",
    "len(non_zero_idx)\n",
    "\n",
    "review_ints = [review_ints[ii] for ii in non_zero_idx]\n",
    "labels = np.array([labels[ii] for ii in non_zero_idx])\n",
    "\n",
    "seq_len = 200\n",
    "features = np.zeros((len(review_ints), seq_len), dtype=int)\n",
    "for i, row in enumerate(review_ints):\n",
    "    features[i, -len(row):] = np.array(row)[:seq_len]"
   ]
  },
  {
   "cell_type": "code",
   "execution_count": 25,
   "metadata": {
    "collapsed": false,
    "deletable": true,
    "editable": true
   },
   "outputs": [
    {
     "data": {
      "text/plain": [
       "(5313, 200)"
      ]
     },
     "execution_count": 25,
     "metadata": {},
     "output_type": "execute_result"
    }
   ],
   "source": [
    "features.shape"
   ]
  },
  {
   "cell_type": "markdown",
   "metadata": {
    "deletable": true,
    "editable": true
   },
   "source": [
    "Restaram então 5313 comentários, que foram truncados em um tamanho fixo de 200.\n",
    "Caso o comentario tenha menos de 200 palavras, os espaços vazios serão preenchidos com 0's.\n",
    "\n",
    "O array features, fiocu da seguinte forma então:\n"
   ]
  },
  {
   "cell_type": "code",
   "execution_count": 26,
   "metadata": {
    "collapsed": false,
    "deletable": true,
    "editable": true
   },
   "outputs": [
    {
     "data": {
      "text/plain": [
       "array([[  0,   0,   0, ...,  28,  29,  30],\n",
       "       [  0,   0,   0, ...,   0,  31,  32],\n",
       "       [  0,   0,   0, ...,  64,  65,  66],\n",
       "       ..., \n",
       "       [  0,   0,   0, ..., 159, 153, 160],\n",
       "       [  0,   0,   0, ..., 171,   2,  59],\n",
       "       [  0,   0,   0, ..., 179,  21, 180]])"
      ]
     },
     "execution_count": 26,
     "metadata": {},
     "output_type": "execute_result"
    }
   ],
   "source": [
    "features[0:10]"
   ]
  },
  {
   "cell_type": "markdown",
   "metadata": {
    "deletable": true,
    "editable": true
   },
   "source": [
    "## Treinamento, Validação, Teste"
   ]
  },
  {
   "cell_type": "markdown",
   "metadata": {
    "deletable": true,
    "editable": true
   },
   "source": [
    "Com os dados organizados, é necessário fazer um split do dataset pra treinamento,validação e teste\n",
    "A proporção ficou em 80% para treinamento 10% para validação e 10% para testes. Podendo ser alterado essa proporção na variavel train_pct"
   ]
  },
  {
   "cell_type": "code",
   "execution_count": 27,
   "metadata": {
    "collapsed": false,
    "deletable": true,
    "editable": true
   },
   "outputs": [
    {
     "name": "stdout",
     "output_type": "stream",
     "text": [
      "\t\t\tFeature Shape:\n",
      "Train set: \t\t(4250, 200) \n",
      "Validation set: \t(531, 200) \n",
      "Test set: \t\t(532, 200)\n"
     ]
    }
   ],
   "source": [
    "train_pct = 0.8\n",
    "\n",
    "split_idx = int(len(features)*train_pct)\n",
    "\n",
    "train_x, val_x = features[:split_idx], features[split_idx:]\n",
    "train_y, val_y = labels[:split_idx], labels[split_idx:]\n",
    "\n",
    "test_idx = int(len(val_x)*0.5)\n",
    "val_x, test_x = val_x[:test_idx], val_x[test_idx:]\n",
    "val_y, test_y = val_y[:test_idx], val_y[test_idx:]\n",
    "\n",
    "print(\"\\t\\t\\tFeature Shape:\")\n",
    "print(\"Train set: \\t\\t{}\".format(train_x.shape), \n",
    "      \"\\nValidation set: \\t{}\".format(val_x.shape),\n",
    "      \"\\nTest set: \\t\\t{}\".format(test_x.shape))"
   ]
  },
  {
   "cell_type": "markdown",
   "metadata": {
    "deletable": true,
    "editable": true
   },
   "source": [
    "## Construindo o Grafo da Rede Neural"
   ]
  },
  {
   "cell_type": "code",
   "execution_count": 29,
   "metadata": {
    "collapsed": true,
    "deletable": true,
    "editable": true
   },
   "outputs": [],
   "source": [
    "'''\n",
    "lstm_size -> tamanho das layers de LSTM\n",
    "lstm_layers -> quantidade de layers, começamos em 1 e aumentamos apara analisar melhorias\n",
    "batch_size -> quantidade de reviews inputadas na rede, varia de acordo com a quantidade de memória \n",
    "disponível na maquina\n",
    "\n",
    "learning_rate -> taxa de aprendizado\n",
    "'''\n",
    "\n",
    "lstm_size = 256\n",
    "lstm_layers = 1\n",
    "batch_size = 500\n",
    "learning_rate = 0.001"
   ]
  },
  {
   "cell_type": "code",
   "execution_count": null,
   "metadata": {
    "collapsed": true,
    "deletable": true,
    "editable": true
   },
   "outputs": [],
   "source": []
  }
 ],
 "metadata": {
  "kernelspec": {
   "display_name": "Python 3",
   "language": "python",
   "name": "python3"
  },
  "language_info": {
   "codemirror_mode": {
    "name": "ipython",
    "version": 3
   },
   "file_extension": ".py",
   "mimetype": "text/x-python",
   "name": "python",
   "nbconvert_exporter": "python",
   "pygments_lexer": "ipython3",
   "version": "3.5.4"
  }
 },
 "nbformat": 4,
 "nbformat_minor": 2
}
