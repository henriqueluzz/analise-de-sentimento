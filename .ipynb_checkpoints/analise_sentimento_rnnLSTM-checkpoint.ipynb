{
 "cells": [
  {
   "cell_type": "markdown",
   "metadata": {},
   "source": [
    "# Análise de Sentimento em reviews de Carros\n",
    "\n",
    "Analise de sentimentos em comentários feitos sobre carros no site http://www.carrosnaweb.com.br/\n",
    "\n",
    "Esses dados foram minerados utilizando a linguagem R e foram os dados da <b>Hackathon de Data Science do Laboratório de Estatística e Geoinformação da UFPR</b>\n",
    "\n",
    "Agradeço ao pessoal da UFPR pela iniciativa, aos professores Walmes e Wagner.\n",
    "\n",
    "O objetivo desse notebook é aplicar a técnica de analise de sentimentos utilizando-se de redes neurais recorrentes utilizando células de memória LSTM, para predição de sentimento em cima dos comentários de Opinião Geral fornecidos no Dataset.\n",
    "\n",
    "## Estruturação dos Dados\n",
    "\n",
    "Foi nos fornecidos 2 datasets distintos, \"notas.csv\" e \"opinioes.json\", notas.csv fornecia dados estruturados com notas para cada categoria em um carro (Interior,Acabamento, Estilo...), enquanto \"opinioes.json\" fornecia dados não estruturados contendo comentários reais feitos por usuários acerca dos carros revisados.\n",
    "\n",
    "Os dados estruturados (notas para os quesitos) estão em arquivo CSV com campos delimitados por ; (notas.csv). As notas de um mesmo avaliador estão dispostas verticalmente, um quesito após o outro, ocupando assim 15 linhas no total. A ID formada por 8 dígitos hexadecimais identifica unicamente cada avaliação.\n",
    "\n",
    "Os dados da porção semi/não estruturada estão em JSON (opinioes.json). Cada avaliação é um array JSON de 10 elementos (supostamente, pois podem haver discrepâncias acidentais). O primeiro elemento de cada array é a ID que permite pareamento dos dados das duas porções. Os demais elementos do array contém a informação de fabricante, modelo, especificações, ano, dono, cidade, distância percorrida, texto do campo pró, contra, defeitos, data da avaliação, etc."
   ]
  },
  {
   "cell_type": "code",
   "execution_count": 71,
   "metadata": {
    "collapsed": true
   },
   "outputs": [],
   "source": [
    "from string import punctuation\n",
    "import tensorflow as tf\n",
    "import pandas as pd\n",
    "import numpy as np"
   ]
  },
  {
   "cell_type": "code",
   "execution_count": 72,
   "metadata": {
    "collapsed": true
   },
   "outputs": [],
   "source": [
    "notas = pd.read_csv(\"./notas.csv\", sep = ';', encoding = \"utf-8\")\n",
    "\n",
    "opinioes = pd.read_json(\"./opinioes.json\", encoding = \"utf-8\")"
   ]
  },
  {
   "cell_type": "code",
   "execution_count": 73,
   "metadata": {},
   "outputs": [
    {
     "data": {
      "text/html": [
       "<div>\n",
       "<style>\n",
       "    .dataframe thead tr:only-child th {\n",
       "        text-align: right;\n",
       "    }\n",
       "\n",
       "    .dataframe thead th {\n",
       "        text-align: left;\n",
       "    }\n",
       "\n",
       "    .dataframe tbody tr th {\n",
       "        vertical-align: top;\n",
       "    }\n",
       "</style>\n",
       "<table border=\"1\" class=\"dataframe\">\n",
       "  <thead>\n",
       "    <tr style=\"text-align: right;\">\n",
       "      <th></th>\n",
       "      <th>ID</th>\n",
       "      <th>quesito</th>\n",
       "      <th>nota</th>\n",
       "    </tr>\n",
       "  </thead>\n",
       "  <tbody>\n",
       "    <tr>\n",
       "      <th>0</th>\n",
       "      <td>e2b9dc08</td>\n",
       "      <td>Estilo</td>\n",
       "      <td>7</td>\n",
       "    </tr>\n",
       "    <tr>\n",
       "      <th>1</th>\n",
       "      <td>e2b9dc08</td>\n",
       "      <td>Acabamento</td>\n",
       "      <td>5</td>\n",
       "    </tr>\n",
       "    <tr>\n",
       "      <th>2</th>\n",
       "      <td>e2b9dc08</td>\n",
       "      <td>Posição de dirigir</td>\n",
       "      <td>7</td>\n",
       "    </tr>\n",
       "    <tr>\n",
       "      <th>3</th>\n",
       "      <td>e2b9dc08</td>\n",
       "      <td>Instrumentos</td>\n",
       "      <td>10</td>\n",
       "    </tr>\n",
       "    <tr>\n",
       "      <th>4</th>\n",
       "      <td>e2b9dc08</td>\n",
       "      <td>Interior</td>\n",
       "      <td>5</td>\n",
       "    </tr>\n",
       "    <tr>\n",
       "      <th>5</th>\n",
       "      <td>e2b9dc08</td>\n",
       "      <td>Porta-malas</td>\n",
       "      <td>5</td>\n",
       "    </tr>\n",
       "    <tr>\n",
       "      <th>6</th>\n",
       "      <td>e2b9dc08</td>\n",
       "      <td>Desempenho</td>\n",
       "      <td>10</td>\n",
       "    </tr>\n",
       "    <tr>\n",
       "      <th>7</th>\n",
       "      <td>e2b9dc08</td>\n",
       "      <td>Motor</td>\n",
       "      <td>10</td>\n",
       "    </tr>\n",
       "    <tr>\n",
       "      <th>8</th>\n",
       "      <td>e2b9dc08</td>\n",
       "      <td>Câmbio</td>\n",
       "      <td>10</td>\n",
       "    </tr>\n",
       "    <tr>\n",
       "      <th>9</th>\n",
       "      <td>e2b9dc08</td>\n",
       "      <td>Freios</td>\n",
       "      <td>10</td>\n",
       "    </tr>\n",
       "    <tr>\n",
       "      <th>10</th>\n",
       "      <td>e2b9dc08</td>\n",
       "      <td>Suspensão</td>\n",
       "      <td>10</td>\n",
       "    </tr>\n",
       "    <tr>\n",
       "      <th>11</th>\n",
       "      <td>e2b9dc08</td>\n",
       "      <td>Consumo</td>\n",
       "      <td>10</td>\n",
       "    </tr>\n",
       "    <tr>\n",
       "      <th>12</th>\n",
       "      <td>e2b9dc08</td>\n",
       "      <td>Estabilidade</td>\n",
       "      <td>10</td>\n",
       "    </tr>\n",
       "    <tr>\n",
       "      <th>13</th>\n",
       "      <td>e2b9dc08</td>\n",
       "      <td>Custo-Benefício</td>\n",
       "      <td>10</td>\n",
       "    </tr>\n",
       "    <tr>\n",
       "      <th>14</th>\n",
       "      <td>e2b9dc08</td>\n",
       "      <td>Recomendação</td>\n",
       "      <td>10</td>\n",
       "    </tr>\n",
       "  </tbody>\n",
       "</table>\n",
       "</div>"
      ],
      "text/plain": [
       "          ID             quesito  nota\n",
       "0   e2b9dc08              Estilo     7\n",
       "1   e2b9dc08          Acabamento     5\n",
       "2   e2b9dc08  Posição de dirigir     7\n",
       "3   e2b9dc08        Instrumentos    10\n",
       "4   e2b9dc08            Interior     5\n",
       "5   e2b9dc08         Porta-malas     5\n",
       "6   e2b9dc08          Desempenho    10\n",
       "7   e2b9dc08               Motor    10\n",
       "8   e2b9dc08              Câmbio    10\n",
       "9   e2b9dc08              Freios    10\n",
       "10  e2b9dc08           Suspensão    10\n",
       "11  e2b9dc08             Consumo    10\n",
       "12  e2b9dc08        Estabilidade    10\n",
       "13  e2b9dc08     Custo-Benefício    10\n",
       "14  e2b9dc08        Recomendação    10"
      ]
     },
     "execution_count": 73,
     "metadata": {},
     "output_type": "execute_result"
    }
   ],
   "source": [
    "notas.head(15)"
   ]
  },
  {
   "cell_type": "markdown",
   "metadata": {},
   "source": [
    "<i>O dataset Notas.csv fornece uma nota fornecida pelo usuário para cada feature do carro avaliado, será feita uma média dessas features, para servir como media final e label para a analise de sentimento.</i>"
   ]
  },
  {
   "cell_type": "code",
   "execution_count": 74,
   "metadata": {},
   "outputs": [],
   "source": [
    "opinioes.drop([1,2,3,4,5,6,7,9], inplace = True, axis = 1)\n",
    "columns = ['ID','Opiniao Geral']\n",
    "\n",
    "opinioes.columns = columns\n",
    "opinioes = opinioes.sort_values(by = ['ID'], axis = 0)"
   ]
  },
  {
   "cell_type": "code",
   "execution_count": 75,
   "metadata": {},
   "outputs": [
    {
     "data": {
      "text/html": [
       "<div>\n",
       "<style>\n",
       "    .dataframe thead tr:only-child th {\n",
       "        text-align: right;\n",
       "    }\n",
       "\n",
       "    .dataframe thead th {\n",
       "        text-align: left;\n",
       "    }\n",
       "\n",
       "    .dataframe tbody tr th {\n",
       "        vertical-align: top;\n",
       "    }\n",
       "</style>\n",
       "<table border=\"1\" class=\"dataframe\">\n",
       "  <thead>\n",
       "    <tr style=\"text-align: right;\">\n",
       "      <th></th>\n",
       "      <th>ID</th>\n",
       "      <th>Opiniao Geral</th>\n",
       "    </tr>\n",
       "  </thead>\n",
       "  <tbody>\n",
       "    <tr>\n",
       "      <th>5181</th>\n",
       "      <td>00022137</td>\n",
       "      <td>Opinião Geral:É um bom carro, mas pelo valor d...</td>\n",
       "    </tr>\n",
       "    <tr>\n",
       "      <th>4467</th>\n",
       "      <td>000a582d</td>\n",
       "      <td>Opinião Geral:pode melhorar</td>\n",
       "    </tr>\n",
       "    <tr>\n",
       "      <th>3945</th>\n",
       "      <td>001e058b</td>\n",
       "      <td>Opinião Geral:Estou feliz com meu carrinho, só...</td>\n",
       "    </tr>\n",
       "    <tr>\n",
       "      <th>2354</th>\n",
       "      <td>002f1155</td>\n",
       "      <td>Opinião Geral:Para quem quer um carro automáti...</td>\n",
       "    </tr>\n",
       "    <tr>\n",
       "      <th>2009</th>\n",
       "      <td>00372114</td>\n",
       "      <td>Opinião Geral:Em geral o carro é bom e chama a...</td>\n",
       "    </tr>\n",
       "    <tr>\n",
       "      <th>995</th>\n",
       "      <td>006c0f2c</td>\n",
       "      <td>Opinião Geral:carro sem frescuras, e para quem...</td>\n",
       "    </tr>\n",
       "    <tr>\n",
       "      <th>3868</th>\n",
       "      <td>00766a5c</td>\n",
       "      <td>Opinião Geral:Quem tem um e conserva bem,tem c...</td>\n",
       "    </tr>\n",
       "    <tr>\n",
       "      <th>1449</th>\n",
       "      <td>007684da</td>\n",
       "      <td>Opinião Geral:A relação custo-beneficio atende...</td>\n",
       "    </tr>\n",
       "    <tr>\n",
       "      <th>4805</th>\n",
       "      <td>0090acd0</td>\n",
       "      <td>Opinião Geral:Pessimo carro. Ainda irei adesiv...</td>\n",
       "    </tr>\n",
       "    <tr>\n",
       "      <th>4418</th>\n",
       "      <td>009d1244</td>\n",
       "      <td>Opinião Geral:Pra sair do gacho o carro atende...</td>\n",
       "    </tr>\n",
       "  </tbody>\n",
       "</table>\n",
       "</div>"
      ],
      "text/plain": [
       "            ID                                      Opiniao Geral\n",
       "5181  00022137  Opinião Geral:É um bom carro, mas pelo valor d...\n",
       "4467  000a582d                        Opinião Geral:pode melhorar\n",
       "3945  001e058b  Opinião Geral:Estou feliz com meu carrinho, só...\n",
       "2354  002f1155  Opinião Geral:Para quem quer um carro automáti...\n",
       "2009  00372114  Opinião Geral:Em geral o carro é bom e chama a...\n",
       "995   006c0f2c  Opinião Geral:carro sem frescuras, e para quem...\n",
       "3868  00766a5c  Opinião Geral:Quem tem um e conserva bem,tem c...\n",
       "1449  007684da  Opinião Geral:A relação custo-beneficio atende...\n",
       "4805  0090acd0  Opinião Geral:Pessimo carro. Ainda irei adesiv...\n",
       "4418  009d1244  Opinião Geral:Pra sair do gacho o carro atende..."
      ]
     },
     "execution_count": 75,
     "metadata": {},
     "output_type": "execute_result"
    }
   ],
   "source": [
    "opinioes.head(10)"
   ]
  },
  {
   "cell_type": "markdown",
   "metadata": {},
   "source": [
    "No dataset de opinião, dropamos todas as colunas com exceção da coluna de ID e Opinião Geral, na qual iremos performar a analise de sentimentos, falta adicionar a média dada pelo usuario para o carro, porém essa média esta no dataset notas, o código abaixo realiza a média e adiciona a coluna média a Opinião Geral"
   ]
  },
  {
   "cell_type": "code",
   "execution_count": 76,
   "metadata": {
    "collapsed": true
   },
   "outputs": [],
   "source": [
    "def media_geral():\n",
    "    \n",
    "    medias = []\n",
    "    for unique_id in sorted(notas['ID'].unique()):\n",
    "        \n",
    "        media = np.average(notas.loc[notas.ID == unique_id]['nota'])\n",
    "        #print(unique_id, media)\n",
    "        medias.append(media)\n",
    "    \n",
    "    return medias"
   ]
  },
  {
   "cell_type": "code",
   "execution_count": 77,
   "metadata": {
    "collapsed": true
   },
   "outputs": [],
   "source": [
    "medias = media_geral()\n",
    "opinioes['medias'] = pd.Series(medias).values\n",
    "opinioes['Opiniao Geral'] = opinioes['Opiniao Geral'].apply(lambda x: x[14:].lower())"
   ]
  },
  {
   "cell_type": "code",
   "execution_count": 78,
   "metadata": {},
   "outputs": [
    {
     "data": {
      "text/html": [
       "<div>\n",
       "<style>\n",
       "    .dataframe thead tr:only-child th {\n",
       "        text-align: right;\n",
       "    }\n",
       "\n",
       "    .dataframe thead th {\n",
       "        text-align: left;\n",
       "    }\n",
       "\n",
       "    .dataframe tbody tr th {\n",
       "        vertical-align: top;\n",
       "    }\n",
       "</style>\n",
       "<table border=\"1\" class=\"dataframe\">\n",
       "  <thead>\n",
       "    <tr style=\"text-align: right;\">\n",
       "      <th></th>\n",
       "      <th>ID</th>\n",
       "      <th>Opiniao Geral</th>\n",
       "      <th>medias</th>\n",
       "    </tr>\n",
       "  </thead>\n",
       "  <tbody>\n",
       "    <tr>\n",
       "      <th>5181</th>\n",
       "      <td>00022137</td>\n",
       "      <td>é um bom carro, mas pelo valor dele novo, comp...</td>\n",
       "      <td>7.133333</td>\n",
       "    </tr>\n",
       "    <tr>\n",
       "      <th>4467</th>\n",
       "      <td>000a582d</td>\n",
       "      <td>pode melhorar</td>\n",
       "      <td>7.733333</td>\n",
       "    </tr>\n",
       "    <tr>\n",
       "      <th>3945</th>\n",
       "      <td>001e058b</td>\n",
       "      <td>estou feliz com meu carrinho, só me deu alegri...</td>\n",
       "      <td>8.000000</td>\n",
       "    </tr>\n",
       "    <tr>\n",
       "      <th>2354</th>\n",
       "      <td>002f1155</td>\n",
       "      <td>para quem quer um carro automático de verdade,...</td>\n",
       "      <td>8.666667</td>\n",
       "    </tr>\n",
       "    <tr>\n",
       "      <th>2009</th>\n",
       "      <td>00372114</td>\n",
       "      <td>em geral o carro é bom e chama atenção por ond...</td>\n",
       "      <td>6.933333</td>\n",
       "    </tr>\n",
       "    <tr>\n",
       "      <th>995</th>\n",
       "      <td>006c0f2c</td>\n",
       "      <td>carro sem frescuras, e para quem não quer fica...</td>\n",
       "      <td>8.600000</td>\n",
       "    </tr>\n",
       "    <tr>\n",
       "      <th>3868</th>\n",
       "      <td>00766a5c</td>\n",
       "      <td>quem tem um e conserva bem,tem carro pra muito...</td>\n",
       "      <td>7.866667</td>\n",
       "    </tr>\n",
       "    <tr>\n",
       "      <th>1449</th>\n",
       "      <td>007684da</td>\n",
       "      <td>a relação custo-beneficio atende a expectativa...</td>\n",
       "      <td>8.000000</td>\n",
       "    </tr>\n",
       "    <tr>\n",
       "      <th>4805</th>\n",
       "      <td>0090acd0</td>\n",
       "      <td>pessimo carro. ainda irei adesivar no vidro tr...</td>\n",
       "      <td>4.466667</td>\n",
       "    </tr>\n",
       "    <tr>\n",
       "      <th>4418</th>\n",
       "      <td>009d1244</td>\n",
       "      <td>pra sair do gacho o carro atende, porem o segu...</td>\n",
       "      <td>4.933333</td>\n",
       "    </tr>\n",
       "  </tbody>\n",
       "</table>\n",
       "</div>"
      ],
      "text/plain": [
       "            ID                                      Opiniao Geral    medias\n",
       "5181  00022137  é um bom carro, mas pelo valor dele novo, comp...  7.133333\n",
       "4467  000a582d                                      pode melhorar  7.733333\n",
       "3945  001e058b  estou feliz com meu carrinho, só me deu alegri...  8.000000\n",
       "2354  002f1155  para quem quer um carro automático de verdade,...  8.666667\n",
       "2009  00372114  em geral o carro é bom e chama atenção por ond...  6.933333\n",
       "995   006c0f2c  carro sem frescuras, e para quem não quer fica...  8.600000\n",
       "3868  00766a5c  quem tem um e conserva bem,tem carro pra muito...  7.866667\n",
       "1449  007684da  a relação custo-beneficio atende a expectativa...  8.000000\n",
       "4805  0090acd0  pessimo carro. ainda irei adesivar no vidro tr...  4.466667\n",
       "4418  009d1244  pra sair do gacho o carro atende, porem o segu...  4.933333"
      ]
     },
     "execution_count": 78,
     "metadata": {},
     "output_type": "execute_result"
    }
   ],
   "source": [
    "opinioes.head(10)"
   ]
  },
  {
   "cell_type": "markdown",
   "metadata": {},
   "source": [
    "Adicionado então a coluna de média ao dataset de opinioes, foi feita também uma trimagem nos comentarios, \n",
    "pois todos começavam com \"Opinião Geral:\", além disso retirou-se qualquer caps-lock dos comentarios, afim de reduzir-se ruidos no dataset"
   ]
  },
  {
   "cell_type": "code",
   "execution_count": 79,
   "metadata": {
    "collapsed": true
   },
   "outputs": [],
   "source": [
    "#Função que retira qualquer pontuação ddos comentários\n",
    "\n",
    "def clean_punctuation(aux):\n",
    "    \n",
    "    for punct in punctuation:\n",
    "        if punct in aux:\n",
    "            aux = ''.join(aux).split(punct)\n",
    "            aux = ' '.join(aux)\n",
    "    \n",
    "    return aux"
   ]
  },
  {
   "cell_type": "code",
   "execution_count": 80,
   "metadata": {},
   "outputs": [],
   "source": [
    "opinioes['Opiniao Geral'] = opinioes['Opiniao Geral'].apply(lambda x: clean_punctuation(x))"
   ]
  },
  {
   "cell_type": "code",
   "execution_count": 81,
   "metadata": {},
   "outputs": [
    {
     "data": {
      "text/html": [
       "<div>\n",
       "<style>\n",
       "    .dataframe thead tr:only-child th {\n",
       "        text-align: right;\n",
       "    }\n",
       "\n",
       "    .dataframe thead th {\n",
       "        text-align: left;\n",
       "    }\n",
       "\n",
       "    .dataframe tbody tr th {\n",
       "        vertical-align: top;\n",
       "    }\n",
       "</style>\n",
       "<table border=\"1\" class=\"dataframe\">\n",
       "  <thead>\n",
       "    <tr style=\"text-align: right;\">\n",
       "      <th></th>\n",
       "      <th>ID</th>\n",
       "      <th>Opiniao Geral</th>\n",
       "      <th>medias</th>\n",
       "    </tr>\n",
       "  </thead>\n",
       "  <tbody>\n",
       "    <tr>\n",
       "      <th>5181</th>\n",
       "      <td>00022137</td>\n",
       "      <td>é um bom carro  mas pelo valor dele novo  comp...</td>\n",
       "      <td>7.133333</td>\n",
       "    </tr>\n",
       "    <tr>\n",
       "      <th>4467</th>\n",
       "      <td>000a582d</td>\n",
       "      <td>pode melhorar</td>\n",
       "      <td>7.733333</td>\n",
       "    </tr>\n",
       "    <tr>\n",
       "      <th>3945</th>\n",
       "      <td>001e058b</td>\n",
       "      <td>estou feliz com meu carrinho  só me deu alegri...</td>\n",
       "      <td>8.000000</td>\n",
       "    </tr>\n",
       "    <tr>\n",
       "      <th>2354</th>\n",
       "      <td>002f1155</td>\n",
       "      <td>para quem quer um carro automático de verdade ...</td>\n",
       "      <td>8.666667</td>\n",
       "    </tr>\n",
       "    <tr>\n",
       "      <th>2009</th>\n",
       "      <td>00372114</td>\n",
       "      <td>em geral o carro é bom e chama atenção por ond...</td>\n",
       "      <td>6.933333</td>\n",
       "    </tr>\n",
       "    <tr>\n",
       "      <th>995</th>\n",
       "      <td>006c0f2c</td>\n",
       "      <td>carro sem frescuras  e para quem não quer fica...</td>\n",
       "      <td>8.600000</td>\n",
       "    </tr>\n",
       "    <tr>\n",
       "      <th>3868</th>\n",
       "      <td>00766a5c</td>\n",
       "      <td>quem tem um e conserva bem tem carro pra muito...</td>\n",
       "      <td>7.866667</td>\n",
       "    </tr>\n",
       "    <tr>\n",
       "      <th>1449</th>\n",
       "      <td>007684da</td>\n",
       "      <td>a relação custo beneficio atende a expectativa...</td>\n",
       "      <td>8.000000</td>\n",
       "    </tr>\n",
       "    <tr>\n",
       "      <th>4805</th>\n",
       "      <td>0090acd0</td>\n",
       "      <td>pessimo carro  ainda irei adesivar no vidro tr...</td>\n",
       "      <td>4.466667</td>\n",
       "    </tr>\n",
       "    <tr>\n",
       "      <th>4418</th>\n",
       "      <td>009d1244</td>\n",
       "      <td>pra sair do gacho o carro atende  porem o segu...</td>\n",
       "      <td>4.933333</td>\n",
       "    </tr>\n",
       "    <tr>\n",
       "      <th>2345</th>\n",
       "      <td>00c25e30</td>\n",
       "      <td>excelente carro  consumo é normal para um 1 0 ...</td>\n",
       "      <td>8.533333</td>\n",
       "    </tr>\n",
       "    <tr>\n",
       "      <th>4811</th>\n",
       "      <td>00d71069</td>\n",
       "      <td>bom carro  mas a volks precisa se atualizar co...</td>\n",
       "      <td>7.266667</td>\n",
       "    </tr>\n",
       "    <tr>\n",
       "      <th>1329</th>\n",
       "      <td>00e3d741</td>\n",
       "      <td>podem comprar carrinho é top anda muito  ja ti...</td>\n",
       "      <td>8.666667</td>\n",
       "    </tr>\n",
       "    <tr>\n",
       "      <th>2705</th>\n",
       "      <td>00e41b6b</td>\n",
       "      <td>o carro é bom  o problema está nas pessoas que...</td>\n",
       "      <td>8.200000</td>\n",
       "    </tr>\n",
       "    <tr>\n",
       "      <th>852</th>\n",
       "      <td>00f479b3</td>\n",
       "      <td>uma bosta  não comprem  bebe muito anda nada e...</td>\n",
       "      <td>1.733333</td>\n",
       "    </tr>\n",
       "    <tr>\n",
       "      <th>976</th>\n",
       "      <td>00f7f68c</td>\n",
       "      <td>acabamento ecelente en vista do celta corsa vw...</td>\n",
       "      <td>6.466667</td>\n",
       "    </tr>\n",
       "    <tr>\n",
       "      <th>2696</th>\n",
       "      <td>010dcb9c</td>\n",
       "      <td>ótimo  recomendo  custo benefício  pelo menos ...</td>\n",
       "      <td>8.866667</td>\n",
       "    </tr>\n",
       "    <tr>\n",
       "      <th>4242</th>\n",
       "      <td>0113e625</td>\n",
       "      <td>carro bom  bonito e facil de manter</td>\n",
       "      <td>8.666667</td>\n",
       "    </tr>\n",
       "    <tr>\n",
       "      <th>2643</th>\n",
       "      <td>011929bd</td>\n",
       "      <td>um bom carro  não consumia muito  possui um bo...</td>\n",
       "      <td>8.000000</td>\n",
       "    </tr>\n",
       "    <tr>\n",
       "      <th>4908</th>\n",
       "      <td>011a1b47</td>\n",
       "      <td>tinha um gol giv comprei um gv e não me arrepe...</td>\n",
       "      <td>8.666667</td>\n",
       "    </tr>\n",
       "    <tr>\n",
       "      <th>970</th>\n",
       "      <td>01241069</td>\n",
       "      <td>recomendo o veículo palio  mas somente a parti...</td>\n",
       "      <td>7.933333</td>\n",
       "    </tr>\n",
       "    <tr>\n",
       "      <th>1488</th>\n",
       "      <td>012daaf9</td>\n",
       "      <td>compraria dez desses  o carro do brasil econom...</td>\n",
       "      <td>8.933333</td>\n",
       "    </tr>\n",
       "    <tr>\n",
       "      <th>17</th>\n",
       "      <td>012ea5cf</td>\n",
       "      <td>é um carro que vai deixar saudades para o fim ...</td>\n",
       "      <td>6.866667</td>\n",
       "    </tr>\n",
       "    <tr>\n",
       "      <th>1405</th>\n",
       "      <td>0156e88f</td>\n",
       "      <td>carro apesar dos defeitos  ainda sim vale a pe...</td>\n",
       "      <td>8.333333</td>\n",
       "    </tr>\n",
       "    <tr>\n",
       "      <th>1359</th>\n",
       "      <td>015beba3</td>\n",
       "      <td>carro bom para quem quer pagar em um carro 1 4...</td>\n",
       "      <td>7.266667</td>\n",
       "    </tr>\n",
       "    <tr>\n",
       "      <th>75</th>\n",
       "      <td>0161a5fb</td>\n",
       "      <td>bom custo benefício em se tratando de brasil  ...</td>\n",
       "      <td>6.933333</td>\n",
       "    </tr>\n",
       "    <tr>\n",
       "      <th>221</th>\n",
       "      <td>016b2a72</td>\n",
       "      <td>carro bom  tirei zero e já vai fazer 6 anos em...</td>\n",
       "      <td>7.666667</td>\n",
       "    </tr>\n",
       "    <tr>\n",
       "      <th>653</th>\n",
       "      <td>016ceb29</td>\n",
       "      <td>recomendo a todos  podem comprar sem medo  car...</td>\n",
       "      <td>9.933333</td>\n",
       "    </tr>\n",
       "    <tr>\n",
       "      <th>3718</th>\n",
       "      <td>0174314a</td>\n",
       "      <td>é um carro de nível superior em relação aos po...</td>\n",
       "      <td>8.733333</td>\n",
       "    </tr>\n",
       "    <tr>\n",
       "      <th>423</th>\n",
       "      <td>017825d2</td>\n",
       "      <td>ótimo carro para passeio e viagens curtas</td>\n",
       "      <td>7.200000</td>\n",
       "    </tr>\n",
       "    <tr>\n",
       "      <th>4820</th>\n",
       "      <td>0191d739</td>\n",
       "      <td>ja tive um gol power 2006  foi otimo  cai na b...</td>\n",
       "      <td>4.733333</td>\n",
       "    </tr>\n",
       "    <tr>\n",
       "      <th>1249</th>\n",
       "      <td>0197931c</td>\n",
       "      <td>recomendo</td>\n",
       "      <td>7.333333</td>\n",
       "    </tr>\n",
       "    <tr>\n",
       "      <th>3983</th>\n",
       "      <td>0197a3c1</td>\n",
       "      <td>recomendo carro bom mas tem que cuidar  fica e...</td>\n",
       "      <td>6.866667</td>\n",
       "    </tr>\n",
       "    <tr>\n",
       "      <th>4016</th>\n",
       "      <td>01a3bd64</td>\n",
       "      <td>nao e um mau carro  mais tambem nao é la essa ...</td>\n",
       "      <td>6.466667</td>\n",
       "    </tr>\n",
       "    <tr>\n",
       "      <th>1324</th>\n",
       "      <td>01a77ae8</td>\n",
       "      <td>meu pai foi proprietário de uma s10 utive 10 1...</td>\n",
       "      <td>8.733333</td>\n",
       "    </tr>\n",
       "    <tr>\n",
       "      <th>2403</th>\n",
       "      <td>01b33e22</td>\n",
       "      <td>estou muito satisfeito  eu não imaginava compr...</td>\n",
       "      <td>8.266667</td>\n",
       "    </tr>\n",
       "    <tr>\n",
       "      <th>3057</th>\n",
       "      <td>01b4148f</td>\n",
       "      <td>tirando o painel é um bom carro</td>\n",
       "      <td>8.666667</td>\n",
       "    </tr>\n",
       "    <tr>\n",
       "      <th>5215</th>\n",
       "      <td>01c8aaa4</td>\n",
       "      <td>carro muito bom confiável já fiz três viagens ...</td>\n",
       "      <td>9.600000</td>\n",
       "    </tr>\n",
       "    <tr>\n",
       "      <th>505</th>\n",
       "      <td>01e3f08d</td>\n",
       "      <td>excelente carro  gostei bastante do modelo  é ...</td>\n",
       "      <td>9.066667</td>\n",
       "    </tr>\n",
       "    <tr>\n",
       "      <th>2392</th>\n",
       "      <td>01eac1ec</td>\n",
       "      <td>o carro é muito bom  mas infelizmente enquanto...</td>\n",
       "      <td>7.266667</td>\n",
       "    </tr>\n",
       "    <tr>\n",
       "      <th>223</th>\n",
       "      <td>01f5fd0b</td>\n",
       "      <td>carro bom tanto pra cidade como estrada</td>\n",
       "      <td>8.800000</td>\n",
       "    </tr>\n",
       "    <tr>\n",
       "      <th>466</th>\n",
       "      <td>01f8e664</td>\n",
       "      <td>é um bom carro pra cidade no dia a dia e pra v...</td>\n",
       "      <td>6.933333</td>\n",
       "    </tr>\n",
       "    <tr>\n",
       "      <th>3631</th>\n",
       "      <td>02055437</td>\n",
       "      <td>o carro é fiel a proposta de  pequeno por fora...</td>\n",
       "      <td>5.200000</td>\n",
       "    </tr>\n",
       "    <tr>\n",
       "      <th>4272</th>\n",
       "      <td>020cfb0e</td>\n",
       "      <td>perfeito comparado aos demais hatch  isso se n...</td>\n",
       "      <td>6.666667</td>\n",
       "    </tr>\n",
       "    <tr>\n",
       "      <th>4603</th>\n",
       "      <td>02125466</td>\n",
       "      <td>é um carro pesado  necessita de um motor 1 6  ...</td>\n",
       "      <td>3.933333</td>\n",
       "    </tr>\n",
       "    <tr>\n",
       "      <th>3381</th>\n",
       "      <td>02134f33</td>\n",
       "      <td>bom carro compacto  confortável estiloso</td>\n",
       "      <td>7.400000</td>\n",
       "    </tr>\n",
       "    <tr>\n",
       "      <th>4624</th>\n",
       "      <td>02270923</td>\n",
       "      <td>decepcionado esperava que como ultima geração ...</td>\n",
       "      <td>2.600000</td>\n",
       "    </tr>\n",
       "    <tr>\n",
       "      <th>1975</th>\n",
       "      <td>022fa78c</td>\n",
       "      <td>carro muito bom  gasta pouco a manutenção não ...</td>\n",
       "      <td>7.733333</td>\n",
       "    </tr>\n",
       "    <tr>\n",
       "      <th>4451</th>\n",
       "      <td>024425d0</td>\n",
       "      <td>não sei se tive sorte  mas desde o primeiro di...</td>\n",
       "      <td>7.266667</td>\n",
       "    </tr>\n",
       "    <tr>\n",
       "      <th>4499</th>\n",
       "      <td>025a3c6d</td>\n",
       "      <td>é o típico carro para o dia a dia do trabalhad...</td>\n",
       "      <td>8.000000</td>\n",
       "    </tr>\n",
       "  </tbody>\n",
       "</table>\n",
       "</div>"
      ],
      "text/plain": [
       "            ID                                      Opiniao Geral    medias\n",
       "5181  00022137  é um bom carro  mas pelo valor dele novo  comp...  7.133333\n",
       "4467  000a582d                                      pode melhorar  7.733333\n",
       "3945  001e058b  estou feliz com meu carrinho  só me deu alegri...  8.000000\n",
       "2354  002f1155  para quem quer um carro automático de verdade ...  8.666667\n",
       "2009  00372114  em geral o carro é bom e chama atenção por ond...  6.933333\n",
       "995   006c0f2c  carro sem frescuras  e para quem não quer fica...  8.600000\n",
       "3868  00766a5c  quem tem um e conserva bem tem carro pra muito...  7.866667\n",
       "1449  007684da  a relação custo beneficio atende a expectativa...  8.000000\n",
       "4805  0090acd0  pessimo carro  ainda irei adesivar no vidro tr...  4.466667\n",
       "4418  009d1244  pra sair do gacho o carro atende  porem o segu...  4.933333\n",
       "2345  00c25e30  excelente carro  consumo é normal para um 1 0 ...  8.533333\n",
       "4811  00d71069  bom carro  mas a volks precisa se atualizar co...  7.266667\n",
       "1329  00e3d741  podem comprar carrinho é top anda muito  ja ti...  8.666667\n",
       "2705  00e41b6b  o carro é bom  o problema está nas pessoas que...  8.200000\n",
       "852   00f479b3  uma bosta  não comprem  bebe muito anda nada e...  1.733333\n",
       "976   00f7f68c  acabamento ecelente en vista do celta corsa vw...  6.466667\n",
       "2696  010dcb9c  ótimo  recomendo  custo benefício  pelo menos ...  8.866667\n",
       "4242  0113e625               carro bom  bonito e facil de manter   8.666667\n",
       "2643  011929bd  um bom carro  não consumia muito  possui um bo...  8.000000\n",
       "4908  011a1b47  tinha um gol giv comprei um gv e não me arrepe...  8.666667\n",
       "970   01241069  recomendo o veículo palio  mas somente a parti...  7.933333\n",
       "1488  012daaf9  compraria dez desses  o carro do brasil econom...  8.933333\n",
       "17    012ea5cf  é um carro que vai deixar saudades para o fim ...  6.866667\n",
       "1405  0156e88f  carro apesar dos defeitos  ainda sim vale a pe...  8.333333\n",
       "1359  015beba3  carro bom para quem quer pagar em um carro 1 4...  7.266667\n",
       "75    0161a5fb  bom custo benefício em se tratando de brasil  ...  6.933333\n",
       "221   016b2a72  carro bom  tirei zero e já vai fazer 6 anos em...  7.666667\n",
       "653   016ceb29  recomendo a todos  podem comprar sem medo  car...  9.933333\n",
       "3718  0174314a  é um carro de nível superior em relação aos po...  8.733333\n",
       "423   017825d2         ótimo carro para passeio e viagens curtas   7.200000\n",
       "4820  0191d739  ja tive um gol power 2006  foi otimo  cai na b...  4.733333\n",
       "1249  0197931c                                          recomendo  7.333333\n",
       "3983  0197a3c1  recomendo carro bom mas tem que cuidar  fica e...  6.866667\n",
       "4016  01a3bd64  nao e um mau carro  mais tambem nao é la essa ...  6.466667\n",
       "1324  01a77ae8  meu pai foi proprietário de uma s10 utive 10 1...  8.733333\n",
       "2403  01b33e22  estou muito satisfeito  eu não imaginava compr...  8.266667\n",
       "3057  01b4148f                    tirando o painel é um bom carro  8.666667\n",
       "5215  01c8aaa4  carro muito bom confiável já fiz três viagens ...  9.600000\n",
       "505   01e3f08d  excelente carro  gostei bastante do modelo  é ...  9.066667\n",
       "2392  01eac1ec  o carro é muito bom  mas infelizmente enquanto...  7.266667\n",
       "223   01f5fd0b           carro bom tanto pra cidade como estrada   8.800000\n",
       "466   01f8e664  é um bom carro pra cidade no dia a dia e pra v...  6.933333\n",
       "3631  02055437  o carro é fiel a proposta de  pequeno por fora...  5.200000\n",
       "4272  020cfb0e  perfeito comparado aos demais hatch  isso se n...  6.666667\n",
       "4603  02125466  é um carro pesado  necessita de um motor 1 6  ...  3.933333\n",
       "3381  02134f33          bom carro compacto  confortável estiloso   7.400000\n",
       "4624  02270923  decepcionado esperava que como ultima geração ...  2.600000\n",
       "1975  022fa78c  carro muito bom  gasta pouco a manutenção não ...  7.733333\n",
       "4451  024425d0  não sei se tive sorte  mas desde o primeiro di...  7.266667\n",
       "4499  025a3c6d  é o típico carro para o dia a dia do trabalhad...  8.000000"
      ]
     },
     "execution_count": 81,
     "metadata": {},
     "output_type": "execute_result"
    }
   ],
   "source": [
    "opinioes.head(50)"
   ]
  },
  {
   "cell_type": "markdown",
   "metadata": {},
   "source": [
    "### Encoding das Labels\n",
    "\n",
    "Como será um classificador binário de sentimento (positivo ou negativo), qualquer comentario cuja média geral dada pelo usuário for maior que 6, será considerado um comentário positivo, caso contrario, será um comentário negativo."
   ]
  },
  {
   "cell_type": "code",
   "execution_count": 82,
   "metadata": {},
   "outputs": [],
   "source": [
    "threshold = 6\n",
    "opinioes['medias'] = opinioes['medias'].apply(lambda x: 1 if x > threshold else 0)\n",
    "opinioes.drop('ID', inplace = True, axis = 1)"
   ]
  },
  {
   "cell_type": "markdown",
   "metadata": {},
   "source": [
    "### Quantidade de opiniões positivas e negativas\n",
    "\n",
    "Percebe-se que que a grande maioria das opiniões são positivas (que possuem uma média geral maior que 6),\n",
    "esse é um caso de um dataset desbalanceado, em que a quantidade de informação por classe não é igual,\n",
    "isso vai acarretar em acurácias diferentes para predição de comentarios positivos e negativos.\n",
    "\n",
    "Espera-se que a rede neural aprenderá com mais facilidade e possuira uma melhor acuracia em opiniões positivas\n",
    "do que negativas.\n",
    "\n",
    "Uma solução para esse problema seria minerar mais dados do site para enriquecer o dataset, porém isso não será feito nesse notebook.\n",
    "\n",
    "Continuaremos com a analise e no final mostrarei a diferente acurácia para cada classe devidda a esse desbalanceamento"
   ]
  },
  {
   "cell_type": "code",
   "execution_count": 83,
   "metadata": {},
   "outputs": [
    {
     "data": {
      "text/plain": [
       "1    4358\n",
       "0     971\n",
       "Name: medias, dtype: int64"
      ]
     },
     "execution_count": 83,
     "metadata": {},
     "output_type": "execute_result"
    }
   ],
   "source": [
    "opinioes['medias'].value_counts()"
   ]
  },
  {
   "cell_type": "markdown",
   "metadata": {},
   "source": [
    "Para as colunas de labels, se a media geral for maior que o threshold minimo (no caso foi escolhido 6) então a avaliação é positiva, caso contrario a avaliação é negativa."
   ]
  },
  {
   "cell_type": "code",
   "execution_count": 84,
   "metadata": {
    "collapsed": true
   },
   "outputs": [],
   "source": [
    "'''\n",
    "cria uma lista com as palavras dos reviews\n",
    "'''\n",
    "words = []\n",
    "for index,row in opinioes['Opiniao Geral'].iteritems():\n",
    "    for word in row.split():\n",
    "        words.append(word)"
   ]
  },
  {
   "cell_type": "code",
   "execution_count": 85,
   "metadata": {
    "collapsed": true
   },
   "outputs": [],
   "source": [
    "'''\n",
    "para cada palavra do vocabulario atribui-se um valor numerico\n",
    "'''\n",
    "vocab_to_int = dict()\n",
    "counter = 1\n",
    "for word in words:\n",
    "    if word not in vocab_to_int.keys():\n",
    "        vocab_to_int[word] = counter\n",
    "        counter+=1\n",
    "    else:\n",
    "        pass"
   ]
  },
  {
   "cell_type": "code",
   "execution_count": 86,
   "metadata": {},
   "outputs": [],
   "source": [
    "review_ints = []    \n",
    "for index,review in opinioes['Opiniao Geral'].iteritems():\n",
    "    review_ints.append([vocab_to_int[word] for word in review.split()])\n",
    "    \n",
    "labels = opinioes['medias'].tolist()"
   ]
  },
  {
   "cell_type": "markdown",
   "metadata": {},
   "source": [
    "É necessario fazer a conversão de palavras para inteiros, para isso foi criado um bag de palavras na variavel words, pegando todas as palavras dos reviews, então é criado um dicionario, atribuindo um vlaor inteiro unico para cada palavra.Então cada review em Opinioes é traduzido para inteiros e armazenado na variavel <b>review_ints</b>"
   ]
  },
  {
   "cell_type": "code",
   "execution_count": 87,
   "metadata": {},
   "outputs": [
    {
     "name": "stdout",
     "output_type": "stream",
     "text": [
      "Reviews com tamanho zero: 16\n",
      "Review mais longo: 443\n"
     ]
    }
   ],
   "source": [
    "from collections import Counter\n",
    "\n",
    "review_lens = Counter([len(x) for x in review_ints])\n",
    "print(\"Reviews com tamanho zero: {}\".format(review_lens[0]))\n",
    "print(\"Review mais longo: {}\".format(max(review_lens)))"
   ]
  },
  {
   "cell_type": "markdown",
   "metadata": {},
   "source": [
    "Agora, fazendo uma analise do tamanho dos comentarios, percebe-se a existencia de comentários vazios ou comentários muito longos, os comentarios com zeros palavras serão removidos e o restante truncado em 200 palavras."
   ]
  },
  {
   "cell_type": "code",
   "execution_count": 88,
   "metadata": {
    "collapsed": true
   },
   "outputs": [],
   "source": [
    "non_zero_idx = [ii for ii, review in enumerate(review_ints) if len(review) != 0]\n",
    "len(non_zero_idx)\n",
    "\n",
    "review_ints = [review_ints[ii] for ii in non_zero_idx]\n",
    "labels = np.array([labels[ii] for ii in non_zero_idx])\n",
    "\n",
    "seq_len = 200\n",
    "features = np.zeros((len(review_ints), seq_len), dtype=int)\n",
    "for i, row in enumerate(review_ints):\n",
    "    features[i, -len(row):] = np.array(row)[:seq_len]"
   ]
  },
  {
   "cell_type": "code",
   "execution_count": 89,
   "metadata": {},
   "outputs": [
    {
     "data": {
      "text/plain": [
       "(5313, 200)"
      ]
     },
     "execution_count": 89,
     "metadata": {},
     "output_type": "execute_result"
    }
   ],
   "source": [
    "features.shape"
   ]
  },
  {
   "cell_type": "markdown",
   "metadata": {},
   "source": [
    "Restaram então 5313 comentários, que foram truncados em um tamanho fixo de 200.\n",
    "Caso o comentario tenha menos de 200 palavras, os espaços vazios serão preenchidos com 0's.\n",
    "\n",
    "O array features, fiocu da seguinte forma então:\n"
   ]
  },
  {
   "cell_type": "code",
   "execution_count": 90,
   "metadata": {},
   "outputs": [
    {
     "data": {
      "text/plain": [
       "array([[  0,   0,   0, ...,  29,  30,  31],\n",
       "       [  0,   0,   0, ...,   0,  32,  33],\n",
       "       [  0,   0,   0, ...,  65,  66,  67],\n",
       "       ..., \n",
       "       [  0,   0,   0, ..., 162, 156, 163],\n",
       "       [  0,   0,   0, ..., 174,   2,  60],\n",
       "       [  0,   0,   0, ..., 182,  21, 183]])"
      ]
     },
     "execution_count": 90,
     "metadata": {},
     "output_type": "execute_result"
    }
   ],
   "source": [
    "features[0:10]"
   ]
  },
  {
   "cell_type": "markdown",
   "metadata": {},
   "source": [
    "## Treinamento, Validação, Teste"
   ]
  },
  {
   "cell_type": "markdown",
   "metadata": {},
   "source": [
    "Com os dados organizados, é necessário fazer um split do dataset pra treinamento,validação e teste\n",
    "A proporção ficou em 80% para treinamento 10% para validação e 10% para testes. Podendo ser alterado essa proporção na variavel train_pct"
   ]
  },
  {
   "cell_type": "code",
   "execution_count": 91,
   "metadata": {},
   "outputs": [
    {
     "name": "stdout",
     "output_type": "stream",
     "text": [
      "\t\t\tFeature Shape:\n",
      "Train set: \t\t(4250, 200) \n",
      "Validation set: \t(531, 200) \n",
      "Test set: \t\t(532, 200)\n"
     ]
    }
   ],
   "source": [
    "train_pct = 0.8\n",
    "\n",
    "split_idx = int(len(features)*train_pct)\n",
    "\n",
    "train_x, val_x = features[:split_idx], features[split_idx:]\n",
    "train_y, val_y = labels[:split_idx], labels[split_idx:]\n",
    "\n",
    "test_idx = int(len(val_x)*0.5)\n",
    "val_x, test_x = val_x[:test_idx], val_x[test_idx:]\n",
    "val_y, test_y = val_y[:test_idx], val_y[test_idx:]\n",
    "\n",
    "print(\"\\t\\t\\tFeature Shape:\")\n",
    "print(\"Train set: \\t\\t{}\".format(train_x.shape), \n",
    "      \"\\nValidation set: \\t{}\".format(val_x.shape),\n",
    "      \"\\nTest set: \\t\\t{}\".format(test_x.shape))"
   ]
  },
  {
   "cell_type": "markdown",
   "metadata": {},
   "source": [
    "## Construindo o Grafo da Rede Neural"
   ]
  },
  {
   "cell_type": "code",
   "execution_count": 92,
   "metadata": {
    "collapsed": true
   },
   "outputs": [],
   "source": [
    "'''\n",
    "lstm_size -> tamanho das layers de LSTM\n",
    "lstm_layers -> quantidade de layers, começamos em 1 e aumentamos apara analisar melhorias\n",
    "batch_size -> quantidade de reviews inputadas na rede, varia de acordo com a quantidade de memória \n",
    "disponível na maquina\n",
    "\n",
    "learning_rate -> taxa de aprendizado\n",
    "'''\n",
    "\n",
    "lstm_size = 512\n",
    "lstm_layers = 1\n",
    "batch_size = 256\n",
    "learning_rate = 0.001"
   ]
  },
  {
   "cell_type": "code",
   "execution_count": 93,
   "metadata": {
    "collapsed": true
   },
   "outputs": [],
   "source": [
    "n_words = len(vocab_to_int) + 1 \n",
    "\n",
    "#Grafo da rede\n",
    "graph = tf.Graph()\n",
    "\n",
    "with graph.as_default():\n",
    "    inputs_ = tf.placeholder(tf.int32,[None,None], name = 'inputs') \n",
    "    labels_ = tf.placeholder(tf.int32, [None,None], name = 'labels')\n",
    "    keep_prob = tf.placeholder(tf.float32, name = 'keep_prob')"
   ]
  },
  {
   "cell_type": "code",
   "execution_count": 94,
   "metadata": {
    "collapsed": true
   },
   "outputs": [],
   "source": [
    "embed_size = 300\n",
    "\n",
    "with graph.as_default():\n",
    "    embedding = tf.Variable(tf.random_uniform((n_words, embed_size), -1, 1))\n",
    "    embed = tf.nn.embedding_lookup(embedding, inputs_)"
   ]
  },
  {
   "cell_type": "code",
   "execution_count": 95,
   "metadata": {
    "collapsed": true
   },
   "outputs": [],
   "source": [
    "with graph.as_default():\n",
    "    \n",
    "    #Node de LSTM \n",
    "    lstm = tf.contrib.rnn.BasicLSTMCell(lstm_size)\n",
    "    \n",
    "    #Dropout\n",
    "    drop = tf.contrib.rnn.DropoutWrapper(lstm,output_keep_prob = keep_prob)\n",
    "    \n",
    "    #Stack de multiplas camadas LSTM\n",
    "    cell = tf.contrib.rnn.MultiRNNCell([drop] * lstm_layers)\n",
    "    \n",
    "    #Estado inicial em 0\n",
    "    initial_state = cell.zero_state(batch_size, tf.float32)"
   ]
  },
  {
   "cell_type": "code",
   "execution_count": 96,
   "metadata": {
    "collapsed": true
   },
   "outputs": [],
   "source": [
    "with graph.as_default():\n",
    "    outputs, final_state = tf.nn.dynamic_rnn(cell, embed,\n",
    "                                   initial_state=initial_state)"
   ]
  },
  {
   "cell_type": "code",
   "execution_count": 97,
   "metadata": {
    "collapsed": true
   },
   "outputs": [],
   "source": [
    "with graph.as_default():\n",
    "    predictions = tf.contrib.layers.fully_connected(outputs[:, -1], 1, activation_fn = tf.sigmoid)\n",
    "    cost = tf.losses.mean_squared_error(labels_, predictions)\n",
    "    optimizer = tf.train.AdamOptimizer(learning_rate).minimize(cost)"
   ]
  },
  {
   "cell_type": "code",
   "execution_count": 98,
   "metadata": {
    "collapsed": true
   },
   "outputs": [],
   "source": [
    "with graph.as_default():\n",
    "    correct_pred = tf.equal(tf.cast(tf.round(predictions), tf.int32), labels_)\n",
    "    accuracy = tf.reduce_mean(tf.cast(correct_pred, tf.float32))"
   ]
  },
  {
   "cell_type": "code",
   "execution_count": 99,
   "metadata": {
    "collapsed": true
   },
   "outputs": [],
   "source": [
    "#Função para retornar batches de dados\n",
    "\n",
    "def get_batches(x, y, batch_size=100):\n",
    "    \n",
    "    n_batches = len(x)//batch_size\n",
    "    x, y = x[:n_batches*batch_size], y[:n_batches*batch_size]\n",
    "    for ii in range(0, len(x), batch_size):\n",
    "        yield x[ii:ii+batch_size], y[ii:ii+batch_size]"
   ]
  },
  {
   "cell_type": "code",
   "execution_count": 100,
   "metadata": {},
   "outputs": [
    {
     "name": "stdout",
     "output_type": "stream",
     "text": [
      "Epoch: 0/15 Iteration: 5 Train loss: 0.162\n",
      "Epoch: 0/15 Iteration: 10 Train loss: 0.150\n",
      "Epoch: 0/15 Iteration: 15 Train loss: 0.134\n",
      "Epoch: 1/15 Iteration: 20 Train loss: 0.139\n",
      "Epoch: 1/15 Iteration: 25 Train loss: 0.137\n",
      "Val acc: 0.814\n",
      "Epoch: 1/15 Iteration: 30 Train loss: 0.108\n",
      "Epoch: 2/15 Iteration: 35 Train loss: 0.126\n",
      "Epoch: 2/15 Iteration: 40 Train loss: 0.108\n",
      "Epoch: 2/15 Iteration: 45 Train loss: 0.121\n",
      "Epoch: 3/15 Iteration: 50 Train loss: 0.076\n",
      "Val acc: 0.771\n",
      "Epoch: 3/15 Iteration: 55 Train loss: 0.107\n",
      "Epoch: 3/15 Iteration: 60 Train loss: 0.077\n",
      "Epoch: 4/15 Iteration: 65 Train loss: 0.071\n",
      "Epoch: 4/15 Iteration: 70 Train loss: 0.068\n",
      "Epoch: 4/15 Iteration: 75 Train loss: 0.065\n",
      "Val acc: 0.793\n",
      "Epoch: 4/15 Iteration: 80 Train loss: 0.078\n",
      "Epoch: 5/15 Iteration: 85 Train loss: 0.060\n",
      "Epoch: 5/15 Iteration: 90 Train loss: 0.055\n",
      "Epoch: 5/15 Iteration: 95 Train loss: 0.076\n",
      "Epoch: 6/15 Iteration: 100 Train loss: 0.058\n",
      "Val acc: 0.832\n",
      "Epoch: 6/15 Iteration: 105 Train loss: 0.049\n",
      "Epoch: 6/15 Iteration: 110 Train loss: 0.052\n",
      "Epoch: 7/15 Iteration: 115 Train loss: 0.042\n",
      "Epoch: 7/15 Iteration: 120 Train loss: 0.045\n",
      "Epoch: 7/15 Iteration: 125 Train loss: 0.046\n",
      "Val acc: 0.791\n",
      "Epoch: 8/15 Iteration: 130 Train loss: 0.031\n",
      "Epoch: 8/15 Iteration: 135 Train loss: 0.041\n",
      "Epoch: 8/15 Iteration: 140 Train loss: 0.018\n",
      "Epoch: 9/15 Iteration: 145 Train loss: 0.018\n",
      "Epoch: 9/15 Iteration: 150 Train loss: 0.017\n",
      "Val acc: 0.811\n",
      "Epoch: 9/15 Iteration: 155 Train loss: 0.012\n",
      "Epoch: 9/15 Iteration: 160 Train loss: 0.029\n",
      "Epoch: 10/15 Iteration: 165 Train loss: 0.013\n",
      "Epoch: 10/15 Iteration: 170 Train loss: 0.012\n",
      "Epoch: 10/15 Iteration: 175 Train loss: 0.008\n",
      "Val acc: 0.771\n",
      "Epoch: 11/15 Iteration: 180 Train loss: 0.008\n",
      "Epoch: 11/15 Iteration: 185 Train loss: 0.011\n",
      "Epoch: 11/15 Iteration: 190 Train loss: 0.009\n",
      "Epoch: 12/15 Iteration: 195 Train loss: 0.015\n",
      "Epoch: 12/15 Iteration: 200 Train loss: 0.020\n",
      "Val acc: 0.822\n",
      "Epoch: 12/15 Iteration: 205 Train loss: 0.010\n",
      "Epoch: 13/15 Iteration: 210 Train loss: 0.008\n",
      "Epoch: 13/15 Iteration: 215 Train loss: 0.017\n",
      "Epoch: 13/15 Iteration: 220 Train loss: 0.005\n",
      "Epoch: 14/15 Iteration: 225 Train loss: 0.008\n",
      "Val acc: 0.762\n",
      "Epoch: 14/15 Iteration: 230 Train loss: 0.009\n",
      "Epoch: 14/15 Iteration: 235 Train loss: 0.008\n",
      "Epoch: 14/15 Iteration: 240 Train loss: 0.016\n"
     ]
    }
   ],
   "source": [
    "epochs = 15\n",
    "\n",
    "with graph.as_default():\n",
    "    saver = tf.train.Saver()\n",
    "\n",
    "with tf.Session(graph=graph) as sess:\n",
    "    sess.run(tf.global_variables_initializer())\n",
    "    iteration = 1\n",
    "    for e in range(epochs):\n",
    "        state = sess.run(initial_state)\n",
    "        \n",
    "        for ii, (x, y) in enumerate(get_batches(train_x, train_y, batch_size), 1):\n",
    "            feed = {inputs_: x,\n",
    "                    labels_: y[:, None],\n",
    "                    keep_prob: 0.5,\n",
    "                    initial_state: state}\n",
    "            loss, state, _ = sess.run([cost, final_state, optimizer], feed_dict=feed)\n",
    "            \n",
    "            if iteration%5==0:\n",
    "                print(\"Epoch: {}/{}\".format(e, epochs),\n",
    "                      \"Iteration: {}\".format(iteration),\n",
    "                      \"Train loss: {:.3f}\".format(loss))\n",
    "\n",
    "            if iteration%25==0:\n",
    "                val_acc = []\n",
    "                val_state = sess.run(cell.zero_state(batch_size, tf.float32))\n",
    "                for x, y in get_batches(val_x, val_y, batch_size):\n",
    "                    feed = {inputs_: x,\n",
    "                            labels_: y[:, None],\n",
    "                            keep_prob: 1,\n",
    "                            initial_state: val_state}\n",
    "                    batch_acc, val_state = sess.run([accuracy, final_state], feed_dict=feed)\n",
    "                    val_acc.append(batch_acc)\n",
    "                print(\"Val acc: {:.3f}\".format(np.mean(val_acc)))\n",
    "            iteration +=1\n",
    "    saver.save(sess, \"checkpoints/sentiment.ckpt\")"
   ]
  },
  {
   "cell_type": "code",
   "execution_count": 101,
   "metadata": {},
   "outputs": [
    {
     "name": "stdout",
     "output_type": "stream",
     "text": [
      "INFO:tensorflow:Restoring parameters from checkpoints/sentiment.ckpt\n",
      "Acurácia média: 0.727\n"
     ]
    }
   ],
   "source": [
    "test_acc = []\n",
    "with tf.Session(graph=graph) as sess:\n",
    "    saver.restore(sess, tf.train.latest_checkpoint('checkpoints'))\n",
    "    test_state = sess.run(cell.zero_state(batch_size, tf.float32))\n",
    "    for ii, (x, y) in enumerate(get_batches(test_x, test_y, batch_size), 1):\n",
    "        feed = {inputs_: x,\n",
    "                labels_: y[:, None],\n",
    "                keep_prob: 1,\n",
    "                initial_state: test_state}\n",
    "        batch_acc, test_state = sess.run([accuracy, final_state], feed_dict=feed)\n",
    "        test_acc.append(batch_acc)\n",
    "    print(\"Acurácia média: {:.3f}\".format(np.mean(test_acc)))"
   ]
  },
  {
   "cell_type": "code",
   "execution_count": 102,
   "metadata": {},
   "outputs": [
    {
     "name": "stdout",
     "output_type": "stream",
     "text": [
      "Acurácia por classe (1) (0):\n",
      "\n",
      " [0.75, 0.703125]\n"
     ]
    }
   ],
   "source": [
    "print(\"Acurácia por classe (1) (0):\\n\\n\", test_acc)"
   ]
  },
  {
   "cell_type": "markdown",
   "metadata": {},
   "source": [
    "### Resultados\n",
    "\n",
    "Perecebe-se que a classificação de comentários obteve uma melhor acuracia em comentarios positivos, conforme esperado, devido a quantidade desbalanceada de comentários por classe. Ainda assim a diferença não foi tão grande quando esperava-se.\n",
    "\n",
    "Esse tipo de processamento de sentimentos, pode ser utilizado para monitorar indices de satisfação em comentários da páginas de Facebook, Fórums, Comentários em site de Notícias e etc, a aplicabilidade do conceito é vasta.\n",
    "\n",
    "Com esse dataset foi somente mostrado uma prova de conceito do uso de RNN utilizando células LSTM, que contrário as redes feedfoward clássicas, que aprendem palavra por palavra,essas,conseguem estabelecer relações semanticas entre palavras numa mesma frase, gerando resultados mais confiáveis.\n",
    "\n",
    "Outro ponto importante a ressaltar é a acurácia por quantidade de dados, a quantidade de comentários utilizada nesse notebook foi relativamente pequena, com um dataset mais robusto, a qualidade e assertividade do modelo tende a aumentar."
   ]
  }
 ],
 "metadata": {
  "kernelspec": {
   "display_name": "Python 3",
   "language": "python",
   "name": "python3"
  },
  "language_info": {
   "codemirror_mode": {
    "name": "ipython",
    "version": 3
   },
   "file_extension": ".py",
   "mimetype": "text/x-python",
   "name": "python",
   "nbconvert_exporter": "python",
   "pygments_lexer": "ipython3",
   "version": "3.6.3"
  }
 },
 "nbformat": 4,
 "nbformat_minor": 2
}
